{
 "cells": [
  {
   "cell_type": "code",
   "execution_count": 13,
   "metadata": {},
   "outputs": [],
   "source": [
    "from langchain_experimental.agents.agent_toolkits import create_pandas_dataframe_agent\n",
    "from langchain_groq import ChatGroq\n",
    "import pandas as pd"
   ]
  },
  {
   "cell_type": "markdown",
   "metadata": {},
   "source": [
    "## Dataset Loading"
   ]
  },
  {
   "cell_type": "code",
   "execution_count": 14,
   "metadata": {},
   "outputs": [
    {
     "data": {
      "text/html": [
       "<div>\n",
       "<style scoped>\n",
       "    .dataframe tbody tr th:only-of-type {\n",
       "        vertical-align: middle;\n",
       "    }\n",
       "\n",
       "    .dataframe tbody tr th {\n",
       "        vertical-align: top;\n",
       "    }\n",
       "\n",
       "    .dataframe thead th {\n",
       "        text-align: right;\n",
       "    }\n",
       "</style>\n",
       "<table border=\"1\" class=\"dataframe\">\n",
       "  <thead>\n",
       "    <tr style=\"text-align: right;\">\n",
       "      <th></th>\n",
       "      <th>fixed acidity</th>\n",
       "      <th>volatile acidity</th>\n",
       "      <th>citric acid</th>\n",
       "      <th>residual sugar</th>\n",
       "      <th>chlorides</th>\n",
       "      <th>free sulfur dioxide</th>\n",
       "      <th>total sulfur dioxide</th>\n",
       "      <th>density</th>\n",
       "      <th>pH</th>\n",
       "      <th>sulphates</th>\n",
       "      <th>alcohol</th>\n",
       "      <th>quality</th>\n",
       "    </tr>\n",
       "  </thead>\n",
       "  <tbody>\n",
       "    <tr>\n",
       "      <th>0</th>\n",
       "      <td>7.4</td>\n",
       "      <td>0.70</td>\n",
       "      <td>0.00</td>\n",
       "      <td>1.9</td>\n",
       "      <td>0.076</td>\n",
       "      <td>11.0</td>\n",
       "      <td>34.0</td>\n",
       "      <td>0.9978</td>\n",
       "      <td>3.51</td>\n",
       "      <td>0.56</td>\n",
       "      <td>9.4</td>\n",
       "      <td>5</td>\n",
       "    </tr>\n",
       "    <tr>\n",
       "      <th>1</th>\n",
       "      <td>7.8</td>\n",
       "      <td>0.88</td>\n",
       "      <td>0.00</td>\n",
       "      <td>2.6</td>\n",
       "      <td>0.098</td>\n",
       "      <td>25.0</td>\n",
       "      <td>67.0</td>\n",
       "      <td>0.9968</td>\n",
       "      <td>3.20</td>\n",
       "      <td>0.68</td>\n",
       "      <td>9.8</td>\n",
       "      <td>5</td>\n",
       "    </tr>\n",
       "    <tr>\n",
       "      <th>2</th>\n",
       "      <td>7.8</td>\n",
       "      <td>0.76</td>\n",
       "      <td>0.04</td>\n",
       "      <td>2.3</td>\n",
       "      <td>0.092</td>\n",
       "      <td>15.0</td>\n",
       "      <td>54.0</td>\n",
       "      <td>0.9970</td>\n",
       "      <td>3.26</td>\n",
       "      <td>0.65</td>\n",
       "      <td>9.8</td>\n",
       "      <td>5</td>\n",
       "    </tr>\n",
       "    <tr>\n",
       "      <th>3</th>\n",
       "      <td>11.2</td>\n",
       "      <td>0.28</td>\n",
       "      <td>0.56</td>\n",
       "      <td>1.9</td>\n",
       "      <td>0.075</td>\n",
       "      <td>17.0</td>\n",
       "      <td>60.0</td>\n",
       "      <td>0.9980</td>\n",
       "      <td>3.16</td>\n",
       "      <td>0.58</td>\n",
       "      <td>9.8</td>\n",
       "      <td>6</td>\n",
       "    </tr>\n",
       "    <tr>\n",
       "      <th>4</th>\n",
       "      <td>7.4</td>\n",
       "      <td>0.70</td>\n",
       "      <td>0.00</td>\n",
       "      <td>1.9</td>\n",
       "      <td>0.076</td>\n",
       "      <td>11.0</td>\n",
       "      <td>34.0</td>\n",
       "      <td>0.9978</td>\n",
       "      <td>3.51</td>\n",
       "      <td>0.56</td>\n",
       "      <td>9.4</td>\n",
       "      <td>5</td>\n",
       "    </tr>\n",
       "  </tbody>\n",
       "</table>\n",
       "</div>"
      ],
      "text/plain": [
       "   fixed acidity  volatile acidity  citric acid  residual sugar  chlorides  \\\n",
       "0            7.4              0.70         0.00             1.9      0.076   \n",
       "1            7.8              0.88         0.00             2.6      0.098   \n",
       "2            7.8              0.76         0.04             2.3      0.092   \n",
       "3           11.2              0.28         0.56             1.9      0.075   \n",
       "4            7.4              0.70         0.00             1.9      0.076   \n",
       "\n",
       "   free sulfur dioxide  total sulfur dioxide  density    pH  sulphates  \\\n",
       "0                 11.0                  34.0   0.9978  3.51       0.56   \n",
       "1                 25.0                  67.0   0.9968  3.20       0.68   \n",
       "2                 15.0                  54.0   0.9970  3.26       0.65   \n",
       "3                 17.0                  60.0   0.9980  3.16       0.58   \n",
       "4                 11.0                  34.0   0.9978  3.51       0.56   \n",
       "\n",
       "   alcohol  quality  \n",
       "0      9.4        5  \n",
       "1      9.8        5  \n",
       "2      9.8        5  \n",
       "3      9.8        6  \n",
       "4      9.4        5  "
      ]
     },
     "execution_count": 14,
     "metadata": {},
     "output_type": "execute_result"
    }
   ],
   "source": [
    "df = pd.read_csv('winequality-red.csv')\n",
    "df.head()\n"
   ]
  },
  {
   "cell_type": "code",
   "execution_count": 15,
   "metadata": {},
   "outputs": [],
   "source": [
    "input_data= df[:90].to_json()\n",
    "column='pH'\n",
    "original_value = df[column][0]"
   ]
  },
  {
   "cell_type": "code",
   "execution_count": 16,
   "metadata": {},
   "outputs": [
    {
     "data": {
      "text/plain": [
       "quality\n",
       "3     9.955000\n",
       "4    10.265094\n",
       "5     9.899706\n",
       "6    10.629519\n",
       "7    11.465913\n",
       "8    12.094444\n",
       "Name: alcohol, dtype: float64"
      ]
     },
     "execution_count": 16,
     "metadata": {},
     "output_type": "execute_result"
    }
   ],
   "source": [
    "df.groupby('quality')['alcohol'].mean()"
   ]
  },
  {
   "cell_type": "markdown",
   "metadata": {},
   "source": [
    "## Initializing LLM"
   ]
  },
  {
   "cell_type": "code",
   "execution_count": 17,
   "metadata": {},
   "outputs": [],
   "source": [
    "llm_model = ChatGroq(temperature=0, groq_api_key='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', model_name=\"mixtral-8x7b-32768\")"
   ]
  },
  {
   "cell_type": "code",
   "execution_count": 18,
   "metadata": {},
   "outputs": [],
   "source": [
    "from langchain.pydantic_v1 import BaseModel, Field\n",
    "from langchain.tools import BaseTool\n",
    "from typing import Any, Optional, Type, Dict\n",
    "from langchain.callbacks.manager import CallbackManagerForToolRun"
   ]
  },
  {
   "cell_type": "code",
   "execution_count": 19,
   "metadata": {},
   "outputs": [],
   "source": [
    "class InputData(BaseModel):\n",
    "    input_data: str = Field(description='The list of values in JSON format to take in as the input data')"
   ]
  },
  {
   "cell_type": "markdown",
   "metadata": {},
   "source": [
    "## StatisticalAnalysisAgent"
   ]
  },
  {
   "cell_type": "code",
   "execution_count": 20,
   "metadata": {},
   "outputs": [
    {
     "name": "stdout",
     "output_type": "stream",
     "text": [
      "count    90.000000\n",
      "mean      3.331889\n",
      "std       0.141849\n",
      "min       2.930000\n",
      "25%       3.250000\n",
      "50%       3.340000\n",
      "75%       3.410000\n",
      "max       3.900000\n"
     ]
    },
    {
     "name": "stderr",
     "output_type": "stream",
     "text": [
      "/var/folders/5_/_rwfr5wd1bs3_rm90_v0cm900000gp/T/ipykernel_15334/3999433957.py:12: FutureWarning: Passing literal json to 'read_json' is deprecated and will be removed in a future version. To read from a literal string, wrap it in a 'StringIO' object.\n",
      "  if column not in pd.read_json(input_data).columns:\n",
      "/var/folders/5_/_rwfr5wd1bs3_rm90_v0cm900000gp/T/ipykernel_15334/3999433957.py:15: FutureWarning: Passing literal json to 'read_json' is deprecated and will be removed in a future version. To read from a literal string, wrap it in a 'StringIO' object.\n",
      "  stats = pd.read_json(input_data)[column].describe()\n"
     ]
    }
   ],
   "source": [
    "import pandas as pd\n",
    "\n",
    "class StatisticalAnalysisAgent(BaseTool):\n",
    "    name= \"StatisticalAnalysis\"\n",
    "    description=\"Get statistics for a column\"\n",
    "    args_schema: Type[BaseModel] = InputData\n",
    "\n",
    "    # def __init__(self, dataframe):\n",
    "    #     self.dataframe = dataframe\n",
    "\n",
    "    def _run(self, input_data: str, run_manager: Optional[CallbackManagerForToolRun] = None) -> str:\n",
    "        if column not in pd.read_json(input_data).columns:\n",
    "            return f\"Column {column} does not exist in the dataframe.\"\n",
    "        \n",
    "        stats = pd.read_json(input_data)[column].describe()\n",
    "        return stats.to_string()\n",
    "\n",
    "# Example usage\n",
    "stat_agent = StatisticalAnalysisAgent()\n",
    "print(stat_agent._run(input_data)) "
   ]
  },
  {
   "cell_type": "markdown",
   "metadata": {},
   "source": [
    "## DataVisualizationAgent"
   ]
  },
  {
   "cell_type": "code",
   "execution_count": 21,
   "metadata": {},
   "outputs": [
    {
     "name": "stderr",
     "output_type": "stream",
     "text": [
      "/var/folders/5_/_rwfr5wd1bs3_rm90_v0cm900000gp/T/ipykernel_15334/3056853500.py:12: FutureWarning: Passing literal json to 'read_json' is deprecated and will be removed in a future version. To read from a literal string, wrap it in a 'StringIO' object.\n",
      "  if column not in pd.read_json(input_data).columns:\n",
      "/var/folders/5_/_rwfr5wd1bs3_rm90_v0cm900000gp/T/ipykernel_15334/3056853500.py:15: FutureWarning: Passing literal json to 'read_json' is deprecated and will be removed in a future version. To read from a literal string, wrap it in a 'StringIO' object.\n",
      "  plt.hist(pd.read_json(input_data)[column], bins=10, edgecolor='black')\n"
     ]
    },
    {
     "data": {
      "image/png": "[encoded data removed]",
      "text/plain": [
       "<Figure size 640x480 with 1 Axes>"
      ]
     },
     "metadata": {},
     "output_type": "display_data"
    },
    {
     "name": "stdout",
     "output_type": "stream",
     "text": [
      "None\n"
     ]
    }
   ],
   "source": [
    "import matplotlib.pyplot as plt\n",
    "\n",
    "class DataVisualizationAgent(BaseTool):\n",
    "    name= \"Plot Histogram\"\n",
    "    description=\"Plot histogram\"\n",
    "    args_schema: Type[BaseModel] = InputData\n",
    "    \n",
    "    # def __init__(self, dataframe):\n",
    "    #     self.dataframe = dataframe\n",
    "\n",
    "    def _run(self, input_data: str, run_manager: Optional[CallbackManagerForToolRun] = None) -> str:\n",
    "        if column not in pd.read_json(input_data).columns:\n",
    "            return f\"Column {column} does not exist in the dataframe.\"\n",
    "        \n",
    "        plt.hist(pd.read_json(input_data)[column], bins=10, edgecolor='black')\n",
    "        plt.title(f'Histogram of {column}')\n",
    "        plt.xlabel(column)\n",
    "        plt.ylabel('Frequency')\n",
    "        plt.show()\n",
    "\n",
    "# Example usage\n",
    "viz_agent = DataVisualizationAgent()\n",
    "print(viz_agent._run(input_data))\n"
   ]
  },
  {
   "cell_type": "markdown",
   "metadata": {},
   "source": [
    "## DataFilteringAgent"
   ]
  },
  {
   "cell_type": "code",
   "execution_count": 22,
   "metadata": {},
   "outputs": [
    {
     "name": "stdout",
     "output_type": "stream",
     "text": [
      "0     3.51\n",
      "1     3.20\n",
      "2     3.26\n",
      "3     3.16\n",
      "4     3.51\n",
      "      ... \n",
      "85    3.41\n",
      "86    2.93\n",
      "87    3.39\n",
      "88    3.14\n",
      "89    3.48\n",
      "Name: pH, Length: 90, dtype: float64\n"
     ]
    },
    {
     "name": "stderr",
     "output_type": "stream",
     "text": [
      "/var/folders/5_/_rwfr5wd1bs3_rm90_v0cm900000gp/T/ipykernel_15334/2708242405.py:12: FutureWarning: Passing literal json to 'read_json' is deprecated and will be removed in a future version. To read from a literal string, wrap it in a 'StringIO' object.\n",
      "  df = pd.read_json(input_data)\n"
     ]
    }
   ],
   "source": [
    "class DataFilteringAgent(BaseTool):\n",
    "\n",
    "    name= \"Filter Data\"\n",
    "    description=\"Filter data based on a condition\"\n",
    "    args_schema: Type[BaseModel] = InputData\n",
    "\n",
    "    # def __init__(self, dataframe):\n",
    "    #     self.dataframe = dataframe\n",
    "\n",
    "    def _run(self, input_data: str, run_manager: Optional[CallbackManagerForToolRun] = None) -> str:\n",
    "        try:\n",
    "            df = pd.read_json(input_data)\n",
    "            filtered_df = df[df[column] > 0.9978][column]\n",
    "            return filtered_df\n",
    "        except Exception as e:\n",
    "            return f\"Error in filtering data: {e}\"\n",
    "\n",
    "# Example usage\n",
    "filter_agent = DataFilteringAgent()\n",
    "print(filter_agent._run(input_data))"
   ]
  },
  {
   "cell_type": "markdown",
   "metadata": {},
   "source": [
    "## SummarizationAgent"
   ]
  },
  {
   "cell_type": "code",
   "execution_count": 58,
   "metadata": {},
   "outputs": [
    {
     "name": "stdout",
     "output_type": "stream",
     "text": [
      "Statistics for density:\n",
      "count    90.000000\n",
      "mean      0.996839\n",
      "std       0.001041\n",
      "min       0.993400\n",
      "25%       0.996200\n",
      "50%       0.996800\n",
      "75%       0.997575\n",
      "max       0.999300\n",
      "\n",
      "density Counts for density:\n",
      "High density (>0.9975750000000001): 23\n",
      "Medium density (0.9962000000000001 to 0.9975750000000001): 49\n",
      "Low density (<0.9962000000000001): 18\n",
      "\n",
      "\n"
     ]
    },
    {
     "name": "stderr",
     "output_type": "stream",
     "text": [
      "/var/folders/5_/_rwfr5wd1bs3_rm90_v0cm900000gp/T/ipykernel_15334/1426868757.py:8: FutureWarning: Passing literal json to 'read_json' is deprecated and will be removed in a future version. To read from a literal string, wrap it in a 'StringIO' object.\n",
      "  df = pd.read_json(input_data)\n"
     ]
    }
   ],
   "source": [
    "class SummarizationAgent(BaseTool):\n",
    "    name = \"Summarize Data\"\n",
    "    description = \"Summarize the dataset\"\n",
    "    args_schema: Type[BaseModel] = InputData\n",
    "\n",
    "    def _run(self, input_data: InputData, run_manager: Optional[CallbackManagerForToolRun] = None) -> str:\n",
    "        try:\n",
    "            df = pd.read_json(input_data)\n",
    "            \n",
    "            if column not in df.columns:\n",
    "                return f\"Column '{column}' not found in the dataframe.\"\n",
    "\n",
    "            if pd.api.types.is_numeric_dtype(df[column]):\n",
    "                stats = df[column].describe()\n",
    "                summary = f\"Statistics for {column}:\\n{stats.to_string()}\\n\\n\"\n",
    "\n",
    "                # Define thresholds for high, medium, and low density\n",
    "                high_threshold = stats['75%']  # Upper quartile\n",
    "                low_threshold = stats['25%']   # Lower quartile\n",
    "\n",
    "                high_density_count = df[df[column] > high_threshold][column].count()\n",
    "                medium_density_count = df[(df[column] <= high_threshold) & (df[column] >= low_threshold)][column].count()\n",
    "                low_density_count = df[df[column] < low_threshold][column].count()\n",
    "\n",
    "                summary += f\"{column} Counts for {column}:\\n\"\n",
    "                summary += f\"High {column} (>{high_threshold}): {high_density_count}\\n\"\n",
    "                summary += f\"Medium {column} ({low_threshold} to {high_threshold}): {medium_density_count}\\n\"\n",
    "                summary += f\"Low {column} (<{low_threshold}): {low_density_count}\\n\\n\"\n",
    "            else:\n",
    "                summary = f\"Column '{column}' is not numeric and cannot be summarized with statistics and density counts.\"\n",
    "\n",
    "            return summary\n",
    "        except Exception as e:\n",
    "            return f\"Error in summarizing data: {e}\"\n",
    "    \n",
    "# Example usage\n",
    "summary_agent = SummarizationAgent()\n",
    "print(summary_agent._run(input_data))\n"
   ]
  },
  {
   "cell_type": "markdown",
   "metadata": {},
   "source": [
    "Statistical Analysis Agent: Computes and returns basic statistics for a given column.\n",
    "\n",
    "\n",
    "Data Visualization Agent: Plots a histogram for a given column.\n",
    "\n",
    "\n",
    "Data Filtering Agent: Filters the dataset based on a user-provided condition.\n",
    "\n",
    "\n",
    "Summarization Agent: Provides a summary of the dataset, including basic statistics for each column."
   ]
  },
  {
   "cell_type": "code",
   "execution_count": 62,
   "metadata": {},
   "outputs": [],
   "source": [
    "from langchain.agents import Tool, initialize_agent"
   ]
  },
  {
   "cell_type": "code",
   "execution_count": 27,
   "metadata": {},
   "outputs": [],
   "source": [
    "PREFIX = \"\"\"Your task is to perform statistical analysis.\n",
    "The input will be the data in JSON format but only take the values in the column specified as a list\n",
    "You have access to the following tools:\n",
    "Use the observations from the tools used to determine the next steps.\n",
    "At any step if an action cannot be executed then simply state the error clearly\"\"\"\n",
    "\n",
    "FORMAT_INSTRUCTIONS = \"\"\"Use the following format:\n",
    "Question: the input question you must answer\n",
    "Thought: you should always think about what to do\n",
    "Action: the action to take, should be one of [{tool_names}]\n",
    "Action Input: the input to the action\n",
    "Observation: the result of the action\n",
    "... (this Thought/Action/Action Input/Observation can repeat N times)\n",
    "Thought: I now know the final answer\n",
    "Final Answer: Task finished\"\"\"\n",
    "\n",
    "SUFFIX = \"\"\"Begin!\n",
    "Question: {input}\n",
    "Thought:{agent_scratchpad}\"\"\"\n"
   ]
  },
  {
   "cell_type": "code",
   "execution_count": 65,
   "metadata": {},
   "outputs": [],
   "source": [
    "agent_chain = initialize_agent(tools, llm_model, agent=\"zero-shot-react-description\", handle_parsing_errors=True, verbose=True,\n",
    "                               agent_kwargs={'prefix':PREFIX,\n",
    "                                             'format_instructions':FORMAT_INSTRUCTIONS,\n",
    "                                             'suffix':SUFFIX})"
   ]
  },
  {
   "cell_type": "markdown",
   "metadata": {},
   "source": [
    "## WrapperAgent\n",
    "\n",
    "to invoke all the agents sequentially"
   ]
  },
  {
   "cell_type": "code",
   "execution_count": 46,
   "metadata": {},
   "outputs": [],
   "source": [
    "class WrapperAgent:\n",
    "    def __init__(self, agents):\n",
    "        self.agents = agents\n",
    "    args_schema: Type[BaseModel] = InputData\n",
    "        \n",
    "    def _run(self, input_data: InputData, run_manager: Optional[CallbackManagerForToolRun] = None) -> str:\n",
    "        current_data = input_data\n",
    "        \n",
    "        for agent in self.agents:\n",
    "            # agent_input_data = InputData(dataframe=current_data)\n",
    "            result = agent._run(input_data)\n",
    "            print(f\"Result from {agent.name}: {result}\")  # Debug: Print result from each agent\n",
    "            if result is None:\n",
    "                return f\"Error: Agent {agent.name} returned None.\"\n",
    "            if \"Error\" in result:\n",
    "                return result  # Stop if any agent returns an error\n",
    "            # Update current_data if the agent modifies the DataFrame\n",
    "            if isinstance(result, str) and result.startswith(\"data:image\"):\n",
    "                # It's an image, return it as is\n",
    "                return result\n",
    "            current_data = result  # Pass the updated DataFrame to the next agent\n",
    "        return current_data\n",
    "\n",
    "# Initialize agents\n",
    "stat_agent = StatisticalAnalysisAgent()\n",
    "viz_agent = DataVisualizationAgent()\n",
    "filter_agent = DataFilteringAgent()\n",
    "summary_agent = SummarizationAgent()\n",
    "\n",
    "# Create a list of agents to run sequentially\n",
    "agents = [stat_agent, filter_agent, summary_agent, viz_agent]\n",
    "\n",
    "# Initialize the wrapper agent\n",
    "wrapper_agent = WrapperAgent(agents)"
   ]
  },
  {
   "cell_type": "code",
   "execution_count": 48,
   "metadata": {},
   "outputs": [
    {
     "name": "stdout",
     "output_type": "stream",
     "text": [
      "Result from StatisticalAnalysis: count    90.000000\n",
      "mean      3.331889\n",
      "std       0.141849\n",
      "min       2.930000\n",
      "25%       3.250000\n",
      "50%       3.340000\n",
      "75%       3.410000\n",
      "max       3.900000\n",
      "Result from Filter Data: 0     3.51\n",
      "1     3.20\n",
      "2     3.26\n",
      "3     3.16\n",
      "4     3.51\n",
      "      ... \n",
      "85    3.41\n",
      "86    2.93\n",
      "87    3.39\n",
      "88    3.14\n",
      "89    3.48\n",
      "Name: pH, Length: 90, dtype: float64\n",
      "Result from Summarize Data: Statistics for pH:\n",
      "count    90.000000\n",
      "mean      3.331889\n",
      "std       0.141849\n",
      "min       2.930000\n",
      "25%       3.250000\n",
      "50%       3.340000\n",
      "75%       3.410000\n",
      "max       3.900000\n",
      "\n",
      "pH Counts for pH:\n",
      "High pH (>3.41): 22\n",
      "Medium pH (3.25 to 3.41): 46\n",
      "Low pH (<3.25): 22\n",
      "\n",
      "\n"
     ]
    },
    {
     "name": "stderr",
     "output_type": "stream",
     "text": [
      "/var/folders/5_/_rwfr5wd1bs3_rm90_v0cm900000gp/T/ipykernel_15334/3999433957.py:12: FutureWarning: Passing literal json to 'read_json' is deprecated and will be removed in a future version. To read from a literal string, wrap it in a 'StringIO' object.\n",
      "  if column not in pd.read_json(input_data).columns:\n",
      "/var/folders/5_/_rwfr5wd1bs3_rm90_v0cm900000gp/T/ipykernel_15334/3999433957.py:15: FutureWarning: Passing literal json to 'read_json' is deprecated and will be removed in a future version. To read from a literal string, wrap it in a 'StringIO' object.\n",
      "  stats = pd.read_json(input_data)[column].describe()\n",
      "/var/folders/5_/_rwfr5wd1bs3_rm90_v0cm900000gp/T/ipykernel_15334/2708242405.py:12: FutureWarning: Passing literal json to 'read_json' is deprecated and will be removed in a future version. To read from a literal string, wrap it in a 'StringIO' object.\n",
      "  df = pd.read_json(input_data)\n",
      "/var/folders/5_/_rwfr5wd1bs3_rm90_v0cm900000gp/T/ipykernel_15334/1576422434.py:24: FutureWarning: Passing literal json to 'read_json' is deprecated and will be removed in a future version. To read from a literal string, wrap it in a 'StringIO' object.\n",
      "  df = pd.read_json(input_data)\n",
      "/var/folders/5_/_rwfr5wd1bs3_rm90_v0cm900000gp/T/ipykernel_15334/3056853500.py:12: FutureWarning: Passing literal json to 'read_json' is deprecated and will be removed in a future version. To read from a literal string, wrap it in a 'StringIO' object.\n",
      "  if column not in pd.read_json(input_data).columns:\n",
      "/var/folders/5_/_rwfr5wd1bs3_rm90_v0cm900000gp/T/ipykernel_15334/3056853500.py:15: FutureWarning: Passing literal json to 'read_json' is deprecated and will be removed in a future version. To read from a literal string, wrap it in a 'StringIO' object.\n",
      "  plt.hist(pd.read_json(input_data)[column], bins=10, edgecolor='black')\n"
     ]
    },
    {
     "data": {
      "image/png": "[encoded data removed]",
      "text/plain": [
       "<Figure size 640x480 with 1 Axes>"
      ]
     },
     "metadata": {},
     "output_type": "display_data"
    },
    {
     "name": "stdout",
     "output_type": "stream",
     "text": [
      "Result from Plot Histogram: None\n",
      "Error: Agent Plot Histogram returned None.\n"
     ]
    }
   ],
   "source": [
    "print(wrapper_agent._run(input_data))"
   ]
  },
  {
   "cell_type": "markdown",
   "metadata": {},
   "source": [
    "## Test on different columns\n",
    "\n"
   ]
  },
  {
   "cell_type": "code",
   "execution_count": 59,
   "metadata": {},
   "outputs": [],
   "source": [
    "column = 'free sulfur dioxide'"
   ]
  },
  {
   "cell_type": "code",
   "execution_count": 60,
   "metadata": {},
   "outputs": [
    {
     "name": "stdout",
     "output_type": "stream",
     "text": [
      "Result from StatisticalAnalysis: count    90.000000\n",
      "mean     15.755556\n",
      "std      10.237968\n",
      "min       3.000000\n",
      "25%       9.000000\n",
      "50%      13.500000\n",
      "75%      19.000000\n",
      "max      52.000000\n",
      "Result from Filter Data: 0     11\n",
      "1     25\n",
      "2     15\n",
      "3     17\n",
      "4     11\n",
      "      ..\n",
      "85    19\n",
      "86    20\n",
      "87     9\n",
      "88    34\n",
      "89     8\n",
      "Name: free sulfur dioxide, Length: 90, dtype: int64\n",
      "Result from Summarize Data: Statistics for free sulfur dioxide:\n",
      "count    90.000000\n",
      "mean     15.755556\n",
      "std      10.237968\n",
      "min       3.000000\n",
      "25%       9.000000\n",
      "50%      13.500000\n",
      "75%      19.000000\n",
      "max      52.000000\n",
      "\n",
      "free sulfur dioxide Counts for free sulfur dioxide:\n",
      "High free sulfur dioxide (>19.0): 22\n",
      "Medium free sulfur dioxide (9.0 to 19.0): 48\n",
      "Low free sulfur dioxide (<9.0): 20\n",
      "\n",
      "\n"
     ]
    },
    {
     "name": "stderr",
     "output_type": "stream",
     "text": [
      "/var/folders/5_/_rwfr5wd1bs3_rm90_v0cm900000gp/T/ipykernel_15334/3999433957.py:12: FutureWarning: Passing literal json to 'read_json' is deprecated and will be removed in a future version. To read from a literal string, wrap it in a 'StringIO' object.\n",
      "  if column not in pd.read_json(input_data).columns:\n",
      "/var/folders/5_/_rwfr5wd1bs3_rm90_v0cm900000gp/T/ipykernel_15334/3999433957.py:15: FutureWarning: Passing literal json to 'read_json' is deprecated and will be removed in a future version. To read from a literal string, wrap it in a 'StringIO' object.\n",
      "  stats = pd.read_json(input_data)[column].describe()\n",
      "/var/folders/5_/_rwfr5wd1bs3_rm90_v0cm900000gp/T/ipykernel_15334/2708242405.py:12: FutureWarning: Passing literal json to 'read_json' is deprecated and will be removed in a future version. To read from a literal string, wrap it in a 'StringIO' object.\n",
      "  df = pd.read_json(input_data)\n",
      "/var/folders/5_/_rwfr5wd1bs3_rm90_v0cm900000gp/T/ipykernel_15334/1576422434.py:24: FutureWarning: Passing literal json to 'read_json' is deprecated and will be removed in a future version. To read from a literal string, wrap it in a 'StringIO' object.\n",
      "  df = pd.read_json(input_data)\n",
      "/var/folders/5_/_rwfr5wd1bs3_rm90_v0cm900000gp/T/ipykernel_15334/3056853500.py:12: FutureWarning: Passing literal json to 'read_json' is deprecated and will be removed in a future version. To read from a literal string, wrap it in a 'StringIO' object.\n",
      "  if column not in pd.read_json(input_data).columns:\n",
      "/var/folders/5_/_rwfr5wd1bs3_rm90_v0cm900000gp/T/ipykernel_15334/3056853500.py:15: FutureWarning: Passing literal json to 'read_json' is deprecated and will be removed in a future version. To read from a literal string, wrap it in a 'StringIO' object.\n",
      "  plt.hist(pd.read_json(input_data)[column], bins=10, edgecolor='black')\n"
     ]
    },
    {
     "data": {
      "image/png": "[encoded data removed]",
      "text/plain": [
       "<Figure size 640x480 with 1 Axes>"
      ]
     },
     "metadata": {},
     "output_type": "display_data"
    },
    {
     "name": "stdout",
     "output_type": "stream",
     "text": [
      "Result from Plot Histogram: None\n",
      "Error: Agent Plot Histogram returned None.\n"
     ]
    }
   ],
   "source": [
    "print(wrapper_agent._run(input_data))"
   ]
  }
 ],
 "metadata": {
  "kernelspec": {
   "display_name": "venv",
   "language": "python",
   "name": "python3"
  },
  "language_info": {
   "codemirror_mode": {
    "name": "ipython",
    "version": 3
   },
   "file_extension": ".py",
   "mimetype": "text/x-python",
   "name": "python",
   "nbconvert_exporter": "python",
   "pygments_lexer": "ipython3",
   "version": "3.11.5"
  }
 },
 "nbformat": 4,
 "nbformat_minor": 2
}
